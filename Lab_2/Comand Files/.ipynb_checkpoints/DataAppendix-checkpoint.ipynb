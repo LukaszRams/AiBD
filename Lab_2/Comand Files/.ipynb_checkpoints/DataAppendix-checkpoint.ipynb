{
 "cells": [
  {
   "cell_type": "markdown",
   "metadata": {},
   "source": [
    "## Laboratorium 2\n",
    "**Łukasz Rams**\n",
    "\n",
    "8.10.2021r\n",
    "\n",
    "piątek 9:15\n"
   ]
  },
  {
   "cell_type": "markdown",
   "metadata": {},
   "source": [
    "**Import modułów**"
   ]
  },
  {
   "cell_type": "code",
   "execution_count": 7,
   "metadata": {},
   "outputs": [],
   "source": [
    "import pandas as pd"
   ]
  },
  {
   "cell_type": "markdown",
   "metadata": {},
   "source": [
    "Odczyt DataFrame z pliku csv"
   ]
  },
  {
   "cell_type": "code",
   "execution_count": 8,
   "metadata": {},
   "outputs": [
    {
     "data": {
      "text/html": [
       "<div>\n",
       "<style scoped>\n",
       "    .dataframe tbody tr th:only-of-type {\n",
       "        vertical-align: middle;\n",
       "    }\n",
       "\n",
       "    .dataframe tbody tr th {\n",
       "        vertical-align: top;\n",
       "    }\n",
       "\n",
       "    .dataframe thead th {\n",
       "        text-align: right;\n",
       "    }\n",
       "</style>\n",
       "<table border=\"1\" class=\"dataframe\">\n",
       "  <thead>\n",
       "    <tr style=\"text-align: right;\">\n",
       "      <th></th>\n",
       "      <th>Unnamed: 0</th>\n",
       "      <th>Positive</th>\n",
       "      <th>Negative</th>\n",
       "    </tr>\n",
       "  </thead>\n",
       "  <tbody>\n",
       "    <tr>\n",
       "      <th>count</th>\n",
       "      <td>8.00000</td>\n",
       "      <td>8.000000</td>\n",
       "      <td>8.000000</td>\n",
       "    </tr>\n",
       "    <tr>\n",
       "      <th>mean</th>\n",
       "      <td>3.50000</td>\n",
       "      <td>53.750000</td>\n",
       "      <td>71.375000</td>\n",
       "    </tr>\n",
       "    <tr>\n",
       "      <th>std</th>\n",
       "      <td>2.44949</td>\n",
       "      <td>7.941752</td>\n",
       "      <td>7.818248</td>\n",
       "    </tr>\n",
       "    <tr>\n",
       "      <th>min</th>\n",
       "      <td>0.00000</td>\n",
       "      <td>41.000000</td>\n",
       "      <td>62.000000</td>\n",
       "    </tr>\n",
       "    <tr>\n",
       "      <th>25%</th>\n",
       "      <td>1.75000</td>\n",
       "      <td>46.750000</td>\n",
       "      <td>66.500000</td>\n",
       "    </tr>\n",
       "    <tr>\n",
       "      <th>50%</th>\n",
       "      <td>3.50000</td>\n",
       "      <td>57.000000</td>\n",
       "      <td>69.000000</td>\n",
       "    </tr>\n",
       "    <tr>\n",
       "      <th>75%</th>\n",
       "      <td>5.25000</td>\n",
       "      <td>60.250000</td>\n",
       "      <td>75.500000</td>\n",
       "    </tr>\n",
       "    <tr>\n",
       "      <th>max</th>\n",
       "      <td>7.00000</td>\n",
       "      <td>61.000000</td>\n",
       "      <td>85.000000</td>\n",
       "    </tr>\n",
       "  </tbody>\n",
       "</table>\n",
       "</div>"
      ],
      "text/plain": [
       "       Unnamed: 0   Positive   Negative\n",
       "count     8.00000   8.000000   8.000000\n",
       "mean      3.50000  53.750000  71.375000\n",
       "std       2.44949   7.941752   7.818248\n",
       "min       0.00000  41.000000  62.000000\n",
       "25%       1.75000  46.750000  66.500000\n",
       "50%       3.50000  57.000000  69.000000\n",
       "75%       5.25000  60.250000  75.500000\n",
       "max       7.00000  61.000000  85.000000"
      ]
     },
     "execution_count": 8,
     "metadata": {},
     "output_type": "execute_result"
    }
   ],
   "source": [
    "df = pd.read_csv(r\"..\\Analysis Data\\Earthquake_data_answer.csv\", sep=\",\")\n",
    "df.describe()"
   ]
  },
  {
   "cell_type": "markdown",
   "metadata": {},
   "source": []
  },
  {
   "cell_type": "code",
   "execution_count": 3,
   "metadata": {},
   "outputs": [],
   "source": [
    "df = df.set_index(\"Age\")"
   ]
  },
  {
   "cell_type": "code",
   "execution_count": 4,
   "metadata": {},
   "outputs": [
    {
     "data": {
      "text/plain": [
       "<matplotlib.legend.Legend at 0x2054e21a100>"
      ]
     },
     "execution_count": 4,
     "metadata": {},
     "output_type": "execute_result"
    },
    {
     "data": {
      "image/png": "[encoded data removed]",
      "text/plain": [
       "<Figure size 432x288 with 1 Axes>"
      ]
     },
     "metadata": {
      "needs_background": "light"
     },
     "output_type": "display_data"
    },
    {
     "data": {
      "image/png": "[encoded data removed]",
      "text/plain": [
       "<Figure size 432x288 with 1 Axes>"
      ]
     },
     "metadata": {
      "needs_background": "light"
     },
     "output_type": "display_data"
    }
   ],
   "source": [
    "df[df[\"Gender\"]==\"Female\"].plot.bar(\n",
    "    rot=0, \n",
    "    title=\"Comparison of women's answers by age\",\n",
    "    color=[\"lightcoral\", \"mediumseagreen\"],\n",
    "    y=[\"Positive\", \"Negative\"]).legend(loc='upper left',\n",
    "                                       bbox_to_anchor=(1.0, 1.0))\n",
    "\n",
    "df[df[\"Gender\"]==\"Male\"].plot.bar(\n",
    "    rot=0, \n",
    "    title=\"Comparison of men's answers by age\",\n",
    "    color=[\"lightcoral\", \"mediumseagreen\"],\n",
    "    y=[\"Positive\", \"Negative\"]).legend(loc='upper left',\n",
    "                                       bbox_to_anchor=(1.0, 1.0))"
   ]
  },
  {
   "cell_type": "markdown",
   "metadata": {},
   "source": [
    "Znormalizowanie danych"
   ]
  },
  {
   "cell_type": "code",
   "execution_count": 5,
   "metadata": {},
   "outputs": [],
   "source": [
    "pos_and_neg = df[\"Positive\"] + df[\"Negative\"]  # suma głosów\n",
    "df[\"Positive_proc\"] = df[\"Positive\"] / (pos_and_neg) * 100  # dodatkowa kolumna z procentem pozytywnych głosów\n",
    "df[\"Negative_proc\"] = df[\"Negative\"] / (pos_and_neg) * 100  #dodatkowa kolumna z procentem negatywnych głosów\n"
   ]
  },
  {
   "cell_type": "code",
   "execution_count": 6,
   "metadata": {},
   "outputs": [
    {
     "data": {
      "text/plain": [
       "<matplotlib.legend.Legend at 0x2054f1509a0>"
      ]
     },
     "execution_count": 6,
     "metadata": {},
     "output_type": "execute_result"
    },
    {
     "data": {
      "image/png": "[encoded data removed]",
      "text/plain": [
       "<Figure size 432x288 with 1 Axes>"
      ]
     },
     "metadata": {
      "needs_background": "light"
     },
     "output_type": "display_data"
    },
    {
     "data": {
      "image/png": "[encoded data removed]",
      "text/plain": [
       "<Figure size 432x288 with 1 Axes>"
      ]
     },
     "metadata": {
      "needs_background": "light"
     },
     "output_type": "display_data"
    }
   ],
   "source": [
    "df[df[\"Gender\"]==\"Female\"].plot.bar(\n",
    "    rot=0, \n",
    "    y=[\"Positive_proc\"], \n",
    "    stacked=True, \n",
    "    title=\"Percentage breakdown of women's positive responses\",\n",
    "    color=\"lightcoral\").legend(loc='upper right')\n",
    "\n",
    "df[df[\"Gender\"]==\"Male\"].plot.bar(\n",
    "    rot=0, \n",
    "    y=[\"Positive_proc\"], \n",
    "    stacked=True, \n",
    "    color=\"mediumseagreen\",\n",
    "    title=\"Percentage breakdown of men's positive responses \").legend(loc='upper right')"
   ]
  }
 ],
 "metadata": {
  "kernelspec": {
   "display_name": "Python 3",
   "language": "python",
   "name": "python3"
  },
  "language_info": {
   "codemirror_mode": {
    "name": "ipython",
    "version": 3
   },
   "file_extension": ".py",
   "mimetype": "text/x-python",
   "name": "python",
   "nbconvert_exporter": "python",
   "pygments_lexer": "ipython3",
   "version": "3.8.2rc2"
  }
 },
 "nbformat": 4,
 "nbformat_minor": 5
}
