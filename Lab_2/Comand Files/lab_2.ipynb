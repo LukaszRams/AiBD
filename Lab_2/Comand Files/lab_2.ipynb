{
 "cells": [
  {
   "cell_type": "markdown",
   "id": "1c8a3aac",
   "metadata": {},
   "source": [
    "## Laboratorium 2\n",
    "**Łukasz Rams**\n",
    "\n",
    "8.10.2021r\n",
    "\n",
    "piątek 9:15\n"
   ]
  },
  {
   "cell_type": "markdown",
   "id": "1444ac10",
   "metadata": {},
   "source": [
    "**Import modułów**"
   ]
  },
  {
   "cell_type": "code",
   "execution_count": 1,
   "id": "188f18d7",
   "metadata": {},
   "outputs": [],
   "source": [
    "import numpy as np\n",
    "import pandas as pd"
   ]
  },
  {
   "cell_type": "markdown",
   "id": "4c787e31",
   "metadata": {},
   "source": [
    "### Ćwiczenie 1\n",
    "\n",
    "W tym ćwiczeniu należało pobrać i uporządkować przydzielony zbiór danych zgodnie z protokołem TIER oraz zasadami \"tidy data\".\n",
    "\n",
    "Zbiór danych wybierany był według następującego wzoru:\n",
    "\n",
    "$ (N\\%6) +1 $\n",
    "\n",
    "Gdzie:\n",
    "\n",
    "$ N $ - ilość liter w nazwisku"
   ]
  },
  {
   "cell_type": "code",
   "execution_count": 2,
   "id": "8bdd71d2",
   "metadata": {},
   "outputs": [
    {
     "data": {
      "text/plain": [
       "'Wyznaczono zbiór danych numer 5'"
      ]
     },
     "execution_count": 2,
     "metadata": {},
     "output_type": "execute_result"
    }
   ],
   "source": [
    "# Wyznaczenie numeru zbioru danych\n",
    "no = (len(\"Rams\") % 6) + 1\n",
    "\"Wyznaczono zbiór danych numer %i\" % no"
   ]
  },
  {
   "cell_type": "markdown",
   "id": "7af8744b",
   "metadata": {},
   "source": [
    "Wyznaczony zbiór danych to **earthquake_data.csv**.\n",
    "\n",
    "W zbiorze tym należało zmienić nazwy kolumn i przygotować tabele łączącą wiek, płeć i odpowiedź na pytanie **Do you think the \"Big One\" will occur in your lifetime?**"
   ]
  },
  {
   "cell_type": "markdown",
   "id": "e05394ac",
   "metadata": {},
   "source": [
    "### Wczytanie danych"
   ]
  },
  {
   "cell_type": "code",
   "execution_count": 9,
   "id": "20e3066b",
   "metadata": {},
   "outputs": [
    {
     "data": {
      "text/html": [
       "<div>\n",
       "<style scoped>\n",
       "    .dataframe tbody tr th:only-of-type {\n",
       "        vertical-align: middle;\n",
       "    }\n",
       "\n",
       "    .dataframe tbody tr th {\n",
       "        vertical-align: top;\n",
       "    }\n",
       "\n",
       "    .dataframe thead th {\n",
       "        text-align: right;\n",
       "    }\n",
       "</style>\n",
       "<table border=\"1\" class=\"dataframe\">\n",
       "  <thead>\n",
       "    <tr style=\"text-align: right;\">\n",
       "      <th></th>\n",
       "      <th>In general, how worried are you about earthquakes?</th>\n",
       "      <th>How worried are you about the Big One, a massive, catastrophic earthquake?</th>\n",
       "      <th>Do you think the \"Big One\" will occur in your lifetime?</th>\n",
       "      <th>Have you ever experienced an earthquake?</th>\n",
       "      <th>Have you or anyone in your household taken any precautions for an earthquake (packed an earthquake survival kit, prepared an evacuation plan, etc.)?</th>\n",
       "      <th>How familiar are you with the San Andreas Fault line?</th>\n",
       "      <th>How familiar are you with the Yellowstone Supervolcano?</th>\n",
       "      <th>Age</th>\n",
       "      <th>What is your gender?</th>\n",
       "      <th>How much total combined money did all members of your HOUSEHOLD earn last year?</th>\n",
       "      <th>US Region</th>\n",
       "    </tr>\n",
       "  </thead>\n",
       "  <tbody>\n",
       "    <tr>\n",
       "      <th>0</th>\n",
       "      <td>Not at all worried</td>\n",
       "      <td>Not so worried</td>\n",
       "      <td>No</td>\n",
       "      <td>Yes, one or more minor ones</td>\n",
       "      <td>No</td>\n",
       "      <td>Somewhat familiar</td>\n",
       "      <td>Not so familiar</td>\n",
       "      <td>18 - 29</td>\n",
       "      <td>Male</td>\n",
       "      <td>Prefer not to answer</td>\n",
       "      <td>New England</td>\n",
       "    </tr>\n",
       "    <tr>\n",
       "      <th>1</th>\n",
       "      <td>Somewhat worried</td>\n",
       "      <td>Very worried</td>\n",
       "      <td>No</td>\n",
       "      <td>Yes, one or more minor ones</td>\n",
       "      <td>No</td>\n",
       "      <td>Not at all familiar</td>\n",
       "      <td>Not at all familiar</td>\n",
       "      <td>18 - 29</td>\n",
       "      <td>Male</td>\n",
       "      <td>$75,000 to $99,999</td>\n",
       "      <td>East North Central</td>\n",
       "    </tr>\n",
       "    <tr>\n",
       "      <th>2</th>\n",
       "      <td>Not so worried</td>\n",
       "      <td>Somewhat worried</td>\n",
       "      <td>No</td>\n",
       "      <td>Yes, one or more minor ones</td>\n",
       "      <td>No</td>\n",
       "      <td>Very familiar</td>\n",
       "      <td>Somewhat familiar</td>\n",
       "      <td>18 - 29</td>\n",
       "      <td>Male</td>\n",
       "      <td>$10,000 to $24,999</td>\n",
       "      <td>Pacific</td>\n",
       "    </tr>\n",
       "    <tr>\n",
       "      <th>3</th>\n",
       "      <td>Not so worried</td>\n",
       "      <td>Not so worried</td>\n",
       "      <td>No</td>\n",
       "      <td>Yes, one or more minor ones</td>\n",
       "      <td>No</td>\n",
       "      <td>Very familiar</td>\n",
       "      <td>Not so familiar</td>\n",
       "      <td>18 - 29</td>\n",
       "      <td>Male</td>\n",
       "      <td>$25,000 to $49,999</td>\n",
       "      <td>West South Central</td>\n",
       "    </tr>\n",
       "    <tr>\n",
       "      <th>4</th>\n",
       "      <td>Not so worried</td>\n",
       "      <td>Not so worried</td>\n",
       "      <td>Yes</td>\n",
       "      <td>Yes, one or more minor ones</td>\n",
       "      <td>No</td>\n",
       "      <td>Somewhat familiar</td>\n",
       "      <td>Extremely familiar</td>\n",
       "      <td>18 - 29</td>\n",
       "      <td>Male</td>\n",
       "      <td>$200,000 and up</td>\n",
       "      <td>Middle Atlantic</td>\n",
       "    </tr>\n",
       "  </tbody>\n",
       "</table>\n",
       "</div>"
      ],
      "text/plain": [
       "  In general, how worried are you about earthquakes?  \\\n",
       "0                                 Not at all worried   \n",
       "1                                   Somewhat worried   \n",
       "2                                     Not so worried   \n",
       "3                                     Not so worried   \n",
       "4                                     Not so worried   \n",
       "\n",
       "  How worried are you about the Big One, a massive, catastrophic earthquake?  \\\n",
       "0                                     Not so worried                           \n",
       "1                                       Very worried                           \n",
       "2                                   Somewhat worried                           \n",
       "3                                     Not so worried                           \n",
       "4                                     Not so worried                           \n",
       "\n",
       "  Do you think the \"Big One\" will occur in your lifetime?  \\\n",
       "0                                                 No        \n",
       "1                                                 No        \n",
       "2                                                 No        \n",
       "3                                                 No        \n",
       "4                                                Yes        \n",
       "\n",
       "  Have you ever experienced an earthquake?  \\\n",
       "0              Yes, one or more minor ones   \n",
       "1              Yes, one or more minor ones   \n",
       "2              Yes, one or more minor ones   \n",
       "3              Yes, one or more minor ones   \n",
       "4              Yes, one or more minor ones   \n",
       "\n",
       "  Have you or anyone in your household taken any precautions for an earthquake (packed an earthquake survival kit, prepared an evacuation plan, etc.)?  \\\n",
       "0                                                 No                                                                                                     \n",
       "1                                                 No                                                                                                     \n",
       "2                                                 No                                                                                                     \n",
       "3                                                 No                                                                                                     \n",
       "4                                                 No                                                                                                     \n",
       "\n",
       "  How familiar are you with the San Andreas Fault line?  \\\n",
       "0                                  Somewhat familiar      \n",
       "1                                Not at all familiar      \n",
       "2                                      Very familiar      \n",
       "3                                      Very familiar      \n",
       "4                                  Somewhat familiar      \n",
       "\n",
       "  How familiar are you with the Yellowstone Supervolcano?      Age  \\\n",
       "0                                    Not so familiar       18 - 29   \n",
       "1                                Not at all familiar       18 - 29   \n",
       "2                                  Somewhat familiar       18 - 29   \n",
       "3                                    Not so familiar       18 - 29   \n",
       "4                                 Extremely familiar       18 - 29   \n",
       "\n",
       "  What is your gender?  \\\n",
       "0                 Male   \n",
       "1                 Male   \n",
       "2                 Male   \n",
       "3                 Male   \n",
       "4                 Male   \n",
       "\n",
       "  How much total combined money did all members of your HOUSEHOLD earn last year?  \\\n",
       "0                               Prefer not to answer                                \n",
       "1                                 $75,000 to $99,999                                \n",
       "2                                 $10,000 to $24,999                                \n",
       "3                                 $25,000 to $49,999                                \n",
       "4                                    $200,000 and up                                \n",
       "\n",
       "            US Region  \n",
       "0         New England  \n",
       "1  East North Central  \n",
       "2             Pacific  \n",
       "3  West South Central  \n",
       "4     Middle Atlantic  "
      ]
     },
     "execution_count": 9,
     "metadata": {},
     "output_type": "execute_result"
    }
   ],
   "source": [
    "data = pd.read_csv(r\"../Original Data/earthquake_data.csv\")  # załadowanie danych \n",
    "data.head(5)  # wyświetlenie pierwszych pięciu rekordów"
   ]
  },
  {
   "cell_type": "code",
   "execution_count": null,
   "id": "776db211",
   "metadata": {},
   "outputs": [],
   "source": []
  }
 ],
 "metadata": {
  "kernelspec": {
   "display_name": "Python 3",
   "language": "python",
   "name": "python3"
  },
  "language_info": {
   "codemirror_mode": {
    "name": "ipython",
    "version": 3
   },
   "file_extension": ".py",
   "mimetype": "text/x-python",
   "name": "python",
   "nbconvert_exporter": "python",
   "pygments_lexer": "ipython3",
   "version": "3.8.8"
  }
 },
 "nbformat": 4,
 "nbformat_minor": 5
}
