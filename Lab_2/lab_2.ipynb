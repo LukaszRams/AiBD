{
 "cells": [
  {
   "cell_type": "markdown",
   "metadata": {},
   "source": [
    "## Laboratorium 2\n",
    "**Łukasz Rams**\n",
    "\n",
    "8.10.2021r\n",
    "\n",
    "piątek 9:15\n"
   ]
  },
  {
   "cell_type": "markdown",
   "metadata": {},
   "source": [
    "**Import modułów**"
   ]
  },
  {
   "cell_type": "code",
   "execution_count": 2,
   "metadata": {},
   "outputs": [],
   "source": [
    "import numpy as np\n",
    "import pandas as pd"
   ]
  },
  {
   "cell_type": "markdown",
   "metadata": {},
   "source": [
    "### Ćwiczenie 1\n",
    "\n",
    "W tym ćwiczeniu należało pobrać i uporządkować przydzielony zbiór danych zgodnie z protokołem TIER oraz zasadami \"tidy data\".\n",
    "\n",
    "Zbiór danych wybierany był według następującego wzoru:\n",
    "\n",
    "$ (N\\%6) +1 $\n",
    "\n",
    "Gdzie:\n",
    "\n",
    "$ N $ - ilość liter w nazwisku"
   ]
  },
  {
   "cell_type": "code",
   "execution_count": 5,
   "metadata": {},
   "outputs": [
    {
     "data": {
      "text/plain": [
       "'Wyznaczono zbiór danych numer 5'"
      ]
     },
     "execution_count": 5,
     "metadata": {},
     "output_type": "execute_result"
    }
   ],
   "source": [
    "# Wyznaczenie numeru zbioru danych\n",
    "no = (len(\"Rams\") % 6) + 1\n",
    "\"Wyznaczono zbiór danych numer %i\" % no"
   ]
  },
  {
   "cell_type": "markdown",
   "metadata": {},
   "source": [
    "Wyznaczony zbiór danych to **earthquake_data.csv**.\n",
    "\n",
    "W zbiorze tym należało zmienić nazwy kolumn i przygotować tabele łączącą wiek, płeć i odpowiedź na pytanie **Do you think the \"Big One\" will occur in your lifetime?**"
   ]
  },
  {
   "cell_type": "code",
   "execution_count": null,
   "metadata": {},
   "outputs": [],
   "source": []
  },
  {
   "cell_type": "code",
   "execution_count": null,
   "metadata": {},
   "outputs": [],
   "source": []
  }
 ],
 "metadata": {
  "kernelspec": {
   "display_name": "Python 3",
   "language": "python",
   "name": "python3"
  },
  "language_info": {
   "codemirror_mode": {
    "name": "ipython",
    "version": 3
   },
   "file_extension": ".py",
   "mimetype": "text/x-python",
   "name": "python",
   "nbconvert_exporter": "python",
   "pygments_lexer": "ipython3",
   "version": "3.8.2rc2"
  }
 },
 "nbformat": 4,
 "nbformat_minor": 5
}
