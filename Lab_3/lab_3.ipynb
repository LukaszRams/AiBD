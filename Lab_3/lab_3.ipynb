{
 "cells": [
  {
   "cell_type": "markdown",
   "metadata": {},
   "source": [
    "## Laboratorium 3\n",
    "**Łukasz Rams**\n",
    "\n",
    "15.10.2021r\n",
    "\n",
    "piątek 9:15\n"
   ]
  },
  {
   "cell_type": "markdown",
   "metadata": {},
   "source": [
    "**Import modułów**"
   ]
  },
  {
   "cell_type": "code",
   "execution_count": 2,
   "metadata": {},
   "outputs": [],
   "source": [
    "import psycopg2 as pg\n",
    "import pandas as pd"
   ]
  },
  {
   "cell_type": "markdown",
   "metadata": {},
   "source": [
    "**Utworzenie połączenia z bazą danych**"
   ]
  },
  {
   "cell_type": "code",
   "execution_count": 3,
   "metadata": {},
   "outputs": [],
   "source": [
    "connection = pg.connect(host='pgsql-196447.vipserv.org', \n",
    "                        port=5432, \n",
    "                        dbname='wbauer_adb', \n",
    "                        user='wbauer_adb', \n",
    "                        password='adb2020')"
   ]
  },
  {
   "cell_type": "markdown",
   "metadata": {},
   "source": [
    "**1. Ile kategorii filmów mamy w wypożyczalni?**"
   ]
  },
  {
   "cell_type": "code",
   "execution_count": 16,
   "metadata": {},
   "outputs": [
    {
     "name": "stdout",
     "output_type": "stream",
     "text": [
      "W wypożyczalni mamy 16 kategorii filmów\n"
     ]
    }
   ],
   "source": [
    "df = pd.read_sql('select count(*) from category',con=connection)\n",
    "print(\"W wypożyczalni mamy %i kategorii filmów\" % int(df[\"count\"]))"
   ]
  },
  {
   "cell_type": "markdown",
   "metadata": {},
   "source": [
    "**2. Wyświetl listę kategorii w kolejności alfabetycznej.**"
   ]
  },
  {
   "cell_type": "code",
   "execution_count": 30,
   "metadata": {},
   "outputs": [
    {
     "name": "stdout",
     "output_type": "stream",
     "text": [
      "Poniżej przedstawiono kategorie w kolejności alfabetycznej\n",
      "\n",
      "           name\n",
      "0        Action\n",
      "1     Animation\n",
      "2      Children\n",
      "3      Classics\n",
      "4        Comedy\n",
      "5   Documentary\n",
      "6         Drama\n",
      "7        Family\n",
      "8       Foreign\n",
      "9         Games\n",
      "10       Horror\n",
      "11        Music\n",
      "12          New\n",
      "13       Sci-Fi\n",
      "14       Sports\n",
      "15       Travel\n"
     ]
    }
   ],
   "source": [
    "df = pd.read_sql('select name from category order by name',con=connection)\n",
    "print(\"Poniżej przedstawiono kategorie w kolejności alfabetycznej\\n\")\n",
    "print(df)"
   ]
  },
  {
   "cell_type": "markdown",
   "metadata": {},
   "source": [
    "**3. Znajdź najstarszy i najmłodszy film do wypożyczenia.**"
   ]
  },
  {
   "cell_type": "code",
   "execution_count": 20,
   "metadata": {},
   "outputs": [
    {
     "name": "stdout",
     "output_type": "stream",
     "text": [
      "Wszystkie filmy są z tego samego roku (2006)\n"
     ]
    }
   ],
   "source": [
    "df = pd.read_sql('select distinct(release_year) from film', con=connection)\n",
    "print(\"Wszystkie filmy są z tego samego roku (%i)\" % int(df.release_year))"
   ]
  },
  {
   "cell_type": "markdown",
   "metadata": {},
   "source": [
    "**4. Ile wypożyczeń odbyło się między 2005-07-01 a 2005-08-01?**"
   ]
  },
  {
   "cell_type": "code",
   "execution_count": 22,
   "metadata": {},
   "outputs": [
    {
     "name": "stdout",
     "output_type": "stream",
     "text": [
      "Między 2005-07-01 a 2005-08-01 odbyło się 6709 wyporzyczeń\n"
     ]
    }
   ],
   "source": [
    "df = pd.read_sql(\"select count(*) from rental where rental_date between '2005-07-01' and '2005-08-01'\", con=connection)\n",
    "print(\"Między 2005-07-01 a 2005-08-01 odbyło się %i wypożyczeń\" % int(df[\"count\"]))"
   ]
  },
  {
   "cell_type": "markdown",
   "metadata": {},
   "source": [
    "**5. Ile wypożyczeń odbyło się między 2010-01-01 a 2011-02-01?**"
   ]
  },
  {
   "cell_type": "code",
   "execution_count": 23,
   "metadata": {},
   "outputs": [
    {
     "name": "stdout",
     "output_type": "stream",
     "text": [
      "Między 2010-01-01 a 2011-02-01 odbyło się 0 wyporzyczeń\n"
     ]
    }
   ],
   "source": [
    "df = pd.read_sql(\"select count(*) from rental where rental_date between '2010-01-01' and '2011-02-01'\", con=connection)\n",
    "print(\"Między 2010-01-01 a 2011-02-01 odbyło się %i wypożyczeń\" % int(df[\"count\"]))"
   ]
  },
  {
   "cell_type": "markdown",
   "metadata": {},
   "source": [
    "**6. Znajdź największą płatność wypożyczenia.**"
   ]
  },
  {
   "cell_type": "code",
   "execution_count": 26,
   "metadata": {},
   "outputs": [
    {
     "name": "stdout",
     "output_type": "stream",
     "text": [
      "Największa płatność wypożyczenia wynosiła 11.99 \n"
     ]
    }
   ],
   "source": [
    "df = pd.read_sql(\"select max(amount) from payment\", con=connection)\n",
    "print(\"Największa płatność wypożyczenia wynosiła %.2f \" % float(df[\"max\"]))"
   ]
  },
  {
   "cell_type": "markdown",
   "metadata": {},
   "source": [
    "**7. Znajdź wszystkich klientów z Polski, Nigerii lub Bangladeszu.**"
   ]
  },
  {
   "cell_type": "code",
   "execution_count": 13,
   "metadata": {},
   "outputs": [],
   "source": [
    "# wersja z zagnieżdżaniem select'ów\n",
    "df = pd.read_sql(\"\"\"select * \n",
    "                    from customer\n",
    "                    where address_id \n",
    "                    in (select address_id \n",
    "                        from address\n",
    "                        where city_id \n",
    "                        in(select city_id\n",
    "                            from city\n",
    "                            where country_id\n",
    "                            in (select country_id\n",
    "                                from country\n",
    "                                where country\n",
    "                                in ('Poland', 'Nigeria', 'Bangladesh'))))\"\"\", con=connection)\n"
   ]
  },
  {
   "cell_type": "code",
   "execution_count": 29,
   "metadata": {},
   "outputs": [
    {
     "name": "stdout",
     "output_type": "stream",
     "text": [
      "Poniższa tabela prezentuje dane klientów z Polski, Nigerii oraz Bangladeszu\n",
      "\n",
      "   first_name  last_name     country\n",
      "0       Sonia    Gregory     Nigeria\n",
      "1       Brian      Wyman      Poland\n",
      "2      Sidney   Burleson      Poland\n",
      "3      Rodney    Moeller     Nigeria\n",
      "4     Stephen     Qualls  Bangladesh\n",
      "5       Velma      Lucas     Nigeria\n",
      "6     Marilyn       Ross     Nigeria\n",
      "7       Elsie     Kelley     Nigeria\n",
      "8      Gladys   Hamilton     Nigeria\n",
      "9       Frank   Waggoner  Bangladesh\n",
      "10   Marjorie     Tucker      Poland\n",
      "11      Carol     Garcia     Nigeria\n",
      "12       Leah     Curtis      Poland\n",
      "13      Ruben      Geary      Poland\n",
      "14       Olga    Jimenez     Nigeria\n",
      "15     Bertha   Ferguson     Nigeria\n",
      "16     Tracey    Barrett     Nigeria\n",
      "17         Jo     Fowler     Nigeria\n",
      "18    Johnnie   Chisholm      Poland\n",
      "19    Wallace      Slone     Nigeria\n",
      "20   Michelle      Clark  Bangladesh\n",
      "21    Russell    Brinson      Poland\n",
      "22     Jimmie  Eggleston      Poland\n",
      "23  Constance       Reid     Nigeria\n"
     ]
    }
   ],
   "source": [
    "# wersja prostsza\n",
    "df = pd.read_sql(\"\"\"select customer.first_name, customer.last_name, country\n",
    "                    from customer, address, city, country\n",
    "                    where (customer.address_id = address.address_id)\n",
    "                    and (address.city_id = city.city_id)\n",
    "                    and (city.country_id = country.country_id)\n",
    "                    and (country.country in ('Poland', 'Nigeria', 'Bangladesh'))\"\"\", con=connection)\n",
    "print(\"Poniższa tabela prezentuje dane klientów z Polski, Nigerii oraz Bangladeszu\\n\")\n",
    "print(df)"
   ]
  },
  {
   "cell_type": "markdown",
   "metadata": {},
   "source": [
    "**8. Gdzie mieszkają członkowie personelu?**"
   ]
  },
  {
   "cell_type": "code",
   "execution_count": 31,
   "metadata": {},
   "outputs": [
    {
     "name": "stdout",
     "output_type": "stream",
     "text": [
      "Poniżej przedstawiono gdzie mieszkają członkowie personelu\n",
      "\n",
      "  first_name last_name postal_code        city    country\n",
      "0       Mike   Hillyer              Lethbridge     Canada\n",
      "1        Jon  Stephens               Woodridge  Australia\n"
     ]
    }
   ],
   "source": [
    "df = pd.read_sql(\"\"\"select staff.first_name, staff.last_name, address.postal_code, city.city, country.country\n",
    "                    from staff, address, city, country\n",
    "                    where (staff.address_id = address.address_id)\n",
    "                    and (address.city_id = city.city_id)\n",
    "                    and (city.country_id = country.country_id)\"\"\", con=connection)\n",
    "print(\"Poniżej przedstawiono gdzie mieszkają członkowie personelu\\n\")\n",
    "print(df)"
   ]
  },
  {
   "cell_type": "markdown",
   "metadata": {},
   "source": [
    "**9. Ilu pracowników mieszka w Argentynie lub Hiszpanii?**"
   ]
  },
  {
   "cell_type": "code",
   "execution_count": 32,
   "metadata": {},
   "outputs": [
    {
     "name": "stdout",
     "output_type": "stream",
     "text": [
      "W argentynie mieszka 0 pracowników\n"
     ]
    }
   ],
   "source": [
    "# Z poprzedniego zadania widać, iż nikt nie mieszka w Argentynie i Hiszpani\n",
    "df = pd.read_sql(\"\"\"select count(*)\n",
    "                    from staff, address, city, country\n",
    "                    where (staff.address_id = address.address_id)\n",
    "                    and (address.city_id = city.city_id)\n",
    "                    and (city.country_id = country.country_id)\n",
    "                    and (country in ('Argentina', 'Spain'))\"\"\", con=connection)\n",
    "print(\"W argentynie mieszka %i pracowników\" % int(df[\"count\"]))"
   ]
  },
  {
   "cell_type": "markdown",
   "metadata": {},
   "source": [
    "**10. Jakie kategorie filmów zostały wypożyczone przez klientów?**"
   ]
  },
  {
   "cell_type": "code",
   "execution_count": 41,
   "metadata": {},
   "outputs": [
    {
     "name": "stdout",
     "output_type": "stream",
     "text": [
      "Przez klientów zostały wypożyczone i nie zwrócone następujące kategorie filmów\n",
      "\n",
      "           name\n",
      "0        Sci-Fi\n",
      "1        Comedy\n",
      "2         Drama\n",
      "3        Horror\n",
      "4      Classics\n",
      "5       Foreign\n",
      "6         Games\n",
      "7        Travel\n",
      "8           New\n",
      "9        Action\n",
      "10        Music\n",
      "11  Documentary\n",
      "12       Sports\n",
      "13    Animation\n",
      "14     Children\n",
      "15       Family\n"
     ]
    }
   ],
   "source": [
    "df = pd.read_sql(\"\"\"select distinct(category.name )\n",
    "                    from category, film_category, inventory, rental\n",
    "                    where (category.category_id = film_category.category_id)\n",
    "                    and (film_category.film_id = inventory.film_id)\n",
    "                    and (inventory.inventory_id = rental.inventory_id)\n",
    "                    and (rental.rental_date is not Null)\n",
    "                    and (rental.return_date is Null)\"\"\", con=connection)\n",
    "print(\"Przez klientów zostały wypożyczone i nie zwrócone następujące kategorie filmów\\n\")\n",
    "print(df)"
   ]
  },
  {
   "cell_type": "markdown",
   "metadata": {},
   "source": [
    "**11. Znajdź wszystkie kategorie filmów wypożyczonych w Ameryce.**"
   ]
  },
  {
   "cell_type": "code",
   "execution_count": 63,
   "metadata": {},
   "outputs": [
    {
     "name": "stdout",
     "output_type": "stream",
     "text": [
      "Przez klientów w Ameryce zostały wypożyczone i nie zwrócone następujące kategorie filmów\n",
      "\n",
      "          name\n",
      "0       Action\n",
      "1    Animation\n",
      "2     Children\n",
      "3     Classics\n",
      "4       Comedy\n",
      "5  Documentary\n",
      "6      Foreign\n",
      "7          New\n",
      "8       Sports\n"
     ]
    }
   ],
   "source": [
    "df = pd.read_sql(\"\"\"select distinct(category.name )\n",
    "                    from category, film_category, inventory, rental, customer, address, city, country\n",
    "                    where (category.category_id = film_category.category_id)\n",
    "                    and (film_category.film_id = inventory.film_id)\n",
    "                    and (inventory.inventory_id = rental.inventory_id)\n",
    "                    and (rental.rental_date is not Null)\n",
    "                    and (rental.return_date is Null)\n",
    "                    and (rental.customer_id = customer.customer_id)\n",
    "                    and (customer.address_id = address.address_id)\n",
    "                    and (address.city_id = city.city_id)\n",
    "                    and (city.country_id = country.country_id)\n",
    "                    and (country.country = 'United States')\"\"\", con=connection)\n",
    "print(\"Przez klientów w Ameryce zostały wypożyczone i nie zwrócone następujące kategorie filmów\\n\")\n",
    "print(df)"
   ]
  },
  {
   "cell_type": "markdown",
   "metadata": {},
   "source": [
    "**12. Znajdź wszystkie tytuły filmów, w których grał: Olympia Pfeiffer lub Julia Zellweger lub Ellen Presley**"
   ]
  },
  {
   "cell_type": "code",
   "execution_count": 74,
   "metadata": {},
   "outputs": [
    {
     "name": "stdout",
     "output_type": "stream",
     "text": [
      "Poniżej przedstawiono filmy w których grali Olympia Pfeiffer lub Julia Zellweger lub Ellen Presley\n",
      "\n",
      "                title first_name last_name\n",
      "0     Bilko Anonymous      Ellen   Presley\n",
      "1   Caribbean Liberty      Ellen   Presley\n",
      "2    Casper Dragonfly      Ellen   Presley\n",
      "3    Empire Malkovich      Ellen   Presley\n",
      "4       Floats Garden      Ellen   Presley\n",
      "..                ...        ...       ...\n",
      "64  Sweet Brotherhood    Olympia  Pfeiffer\n",
      "65   Titanic Boondock    Olympia  Pfeiffer\n",
      "66    Tourist Pelican    Olympia  Pfeiffer\n",
      "67     Traffic Hobbit    Olympia  Pfeiffer\n",
      "68         Wait Cider    Olympia  Pfeiffer\n",
      "\n",
      "[69 rows x 3 columns]\n"
     ]
    }
   ],
   "source": [
    "df = pd.read_sql(\"\"\"select film.title, actor.first_name, actor.last_name\n",
    "                    from film, film_actor, actor\n",
    "                    where (film.film_id = film_actor.film_id)\n",
    "                    and (film_actor.actor_id = actor.actor_id)\n",
    "                    and ((actor.first_name = 'Olympia' and actor.last_name ='Pfeiffer')\n",
    "                        or (actor.first_name = 'Julia' and actor.last_name ='Zellweger')\n",
    "                        or (actor.first_name = 'Ellen' and actor.last_name ='Presley'))\n",
    "                    order by actor.first_name, film.title\"\"\", con=connection)\n",
    "print(\"Poniżej przedstawiono filmy w których grali Olympia Pfeiffer lub Julia Zellweger lub Ellen Presley\\n\")\n",
    "print(df)"
   ]
  },
  {
   "cell_type": "code",
   "execution_count": null,
   "metadata": {},
   "outputs": [],
   "source": []
  }
 ],
 "metadata": {
  "kernelspec": {
   "display_name": "Python 3",
   "language": "python",
   "name": "python3"
  },
  "language_info": {
   "codemirror_mode": {
    "name": "ipython",
    "version": 3
   },
   "file_extension": ".py",
   "mimetype": "text/x-python",
   "name": "python",
   "nbconvert_exporter": "python",
   "pygments_lexer": "ipython3",
   "version": "3.8.2rc2"
  }
 },
 "nbformat": 4,
 "nbformat_minor": 5
}
